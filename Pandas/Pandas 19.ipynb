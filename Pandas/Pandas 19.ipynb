{
 "cells": [
  {
   "cell_type": "markdown",
   "id": "0cc5e776",
   "metadata": {},
   "source": [
    "# Import Modules"
   ]
  },
  {
   "cell_type": "code",
   "execution_count": 1,
   "id": "eef62e1e",
   "metadata": {},
   "outputs": [
    {
     "name": "stdout",
     "output_type": "stream",
     "text": [
      "1.3.4\n",
      "1.20.3\n"
     ]
    }
   ],
   "source": [
    "import pandas as pd\n",
    "import numpy as np\n",
    "\n",
    "print(pd.__version__)\n",
    "print(np.__version__)"
   ]
  },
  {
   "cell_type": "markdown",
   "id": "99478032",
   "metadata": {},
   "source": [
    "# Persiapan Data Frame"
   ]
  },
  {
   "cell_type": "code",
   "execution_count": 3,
   "id": "5907456d",
   "metadata": {},
   "outputs": [
    {
     "data": {
      "text/html": [
       "<div>\n",
       "<style scoped>\n",
       "    .dataframe tbody tr th:only-of-type {\n",
       "        vertical-align: middle;\n",
       "    }\n",
       "\n",
       "    .dataframe tbody tr th {\n",
       "        vertical-align: top;\n",
       "    }\n",
       "\n",
       "    .dataframe thead th {\n",
       "        text-align: right;\n",
       "    }\n",
       "</style>\n",
       "<table border=\"1\" class=\"dataframe\">\n",
       "  <thead>\n",
       "    <tr style=\"text-align: right;\">\n",
       "      <th></th>\n",
       "      <th>omset</th>\n",
       "      <th>operasional</th>\n",
       "    </tr>\n",
       "  </thead>\n",
       "  <tbody>\n",
       "    <tr>\n",
       "      <th>0</th>\n",
       "      <td>9</td>\n",
       "      <td>2</td>\n",
       "    </tr>\n",
       "    <tr>\n",
       "      <th>1</th>\n",
       "      <td>17</td>\n",
       "      <td>5</td>\n",
       "    </tr>\n",
       "    <tr>\n",
       "      <th>2</th>\n",
       "      <td>15</td>\n",
       "      <td>15</td>\n",
       "    </tr>\n",
       "    <tr>\n",
       "      <th>3</th>\n",
       "      <td>18</td>\n",
       "      <td>12</td>\n",
       "    </tr>\n",
       "    <tr>\n",
       "      <th>4</th>\n",
       "      <td>14</td>\n",
       "      <td>11</td>\n",
       "    </tr>\n",
       "  </tbody>\n",
       "</table>\n",
       "</div>"
      ],
      "text/plain": [
       "   omset  operasional\n",
       "0      9            2\n",
       "1     17            5\n",
       "2     15           15\n",
       "3     18           12\n",
       "4     14           11"
      ]
     },
     "execution_count": 3,
     "metadata": {},
     "output_type": "execute_result"
    }
   ],
   "source": [
    "n_rows =5\n",
    "n_cols = 2\n",
    "cols =['omset','operasional']\n",
    "\n",
    "df=pd.DataFrame(np.random.randint(1,20,size=(n_rows,n_cols)),\n",
    "                columns=cols)\n",
    "\n",
    "df"
   ]
  },
  {
   "cell_type": "code",
   "execution_count": 5,
   "id": "0478ebb7",
   "metadata": {},
   "outputs": [
    {
     "data": {
      "text/html": [
       "<div>\n",
       "<style scoped>\n",
       "    .dataframe tbody tr th:only-of-type {\n",
       "        vertical-align: middle;\n",
       "    }\n",
       "\n",
       "    .dataframe tbody tr th {\n",
       "        vertical-align: top;\n",
       "    }\n",
       "\n",
       "    .dataframe thead th {\n",
       "        text-align: right;\n",
       "    }\n",
       "</style>\n",
       "<table border=\"1\" class=\"dataframe\">\n",
       "  <thead>\n",
       "    <tr style=\"text-align: right;\">\n",
       "      <th></th>\n",
       "      <th>omset</th>\n",
       "      <th>operasional</th>\n",
       "    </tr>\n",
       "  </thead>\n",
       "  <tbody>\n",
       "    <tr>\n",
       "      <th>0</th>\n",
       "      <td>900000</td>\n",
       "      <td>20000</td>\n",
       "    </tr>\n",
       "    <tr>\n",
       "      <th>1</th>\n",
       "      <td>1700000</td>\n",
       "      <td>50000</td>\n",
       "    </tr>\n",
       "    <tr>\n",
       "      <th>2</th>\n",
       "      <td>1500000</td>\n",
       "      <td>150000</td>\n",
       "    </tr>\n",
       "    <tr>\n",
       "      <th>3</th>\n",
       "      <td>1800000</td>\n",
       "      <td>120000</td>\n",
       "    </tr>\n",
       "    <tr>\n",
       "      <th>4</th>\n",
       "      <td>1400000</td>\n",
       "      <td>110000</td>\n",
       "    </tr>\n",
       "  </tbody>\n",
       "</table>\n",
       "</div>"
      ],
      "text/plain": [
       "     omset  operasional\n",
       "0   900000        20000\n",
       "1  1700000        50000\n",
       "2  1500000       150000\n",
       "3  1800000       120000\n",
       "4  1400000       110000"
      ]
     },
     "execution_count": 5,
     "metadata": {},
     "output_type": "execute_result"
    }
   ],
   "source": [
    "df['omset']=df['omset']*100_000\n",
    "df['operasional']=df['operasional']*10_000\n",
    "df"
   ]
  },
  {
   "cell_type": "code",
   "execution_count": 6,
   "id": "d3288a47",
   "metadata": {},
   "outputs": [
    {
     "name": "stderr",
     "output_type": "stream",
     "text": [
      "C:\\Users\\Owen Willianto\\anaconda3\\lib\\site-packages\\pandas\\util\\__init__.py:15: FutureWarning: pandas.util.testing is deprecated. Use the functions in the public API at pandas.testing instead.\n",
      "  import pandas.util.testing\n"
     ]
    },
    {
     "data": {
      "text/html": [
       "<div>\n",
       "<style scoped>\n",
       "    .dataframe tbody tr th:only-of-type {\n",
       "        vertical-align: middle;\n",
       "    }\n",
       "\n",
       "    .dataframe tbody tr th {\n",
       "        vertical-align: top;\n",
       "    }\n",
       "\n",
       "    .dataframe thead th {\n",
       "        text-align: right;\n",
       "    }\n",
       "</style>\n",
       "<table border=\"1\" class=\"dataframe\">\n",
       "  <thead>\n",
       "    <tr style=\"text-align: right;\">\n",
       "      <th></th>\n",
       "      <th>tanggal</th>\n",
       "      <th>omset</th>\n",
       "      <th>operasional</th>\n",
       "    </tr>\n",
       "  </thead>\n",
       "  <tbody>\n",
       "    <tr>\n",
       "      <th>0</th>\n",
       "      <td>2000-01-01</td>\n",
       "      <td>900000</td>\n",
       "      <td>20000</td>\n",
       "    </tr>\n",
       "    <tr>\n",
       "      <th>1</th>\n",
       "      <td>2000-01-02</td>\n",
       "      <td>1700000</td>\n",
       "      <td>50000</td>\n",
       "    </tr>\n",
       "    <tr>\n",
       "      <th>2</th>\n",
       "      <td>2000-01-03</td>\n",
       "      <td>1500000</td>\n",
       "      <td>150000</td>\n",
       "    </tr>\n",
       "    <tr>\n",
       "      <th>3</th>\n",
       "      <td>2000-01-04</td>\n",
       "      <td>1800000</td>\n",
       "      <td>120000</td>\n",
       "    </tr>\n",
       "    <tr>\n",
       "      <th>4</th>\n",
       "      <td>2000-01-05</td>\n",
       "      <td>1400000</td>\n",
       "      <td>110000</td>\n",
       "    </tr>\n",
       "  </tbody>\n",
       "</table>\n",
       "</div>"
      ],
      "text/plain": [
       "     tanggal    omset  operasional\n",
       "0 2000-01-01   900000        20000\n",
       "1 2000-01-02  1700000        50000\n",
       "2 2000-01-03  1500000       150000\n",
       "3 2000-01-04  1800000       120000\n",
       "4 2000-01-05  1400000       110000"
      ]
     },
     "execution_count": 6,
     "metadata": {},
     "output_type": "execute_result"
    }
   ],
   "source": [
    "df.index =pd.util.testing.makeDateIndex(n_rows,freq ='D')\n",
    "df =df.reset_index ()\n",
    "df= df.rename(columns={'index':'tanggal'})\n",
    "df"
   ]
  },
  {
   "cell_type": "markdown",
   "id": "8fa5e172",
   "metadata": {},
   "source": [
    "# Melakukan formatting tampilan Data Frame"
   ]
  },
  {
   "cell_type": "code",
   "execution_count": 7,
   "id": "6792b300",
   "metadata": {},
   "outputs": [
    {
     "data": {
      "text/html": [
       "<style type=\"text/css\">\n",
       "</style>\n",
       "<table id=\"T_a1e50_\">\n",
       "  <thead>\n",
       "    <tr>\n",
       "      <th class=\"blank level0\" >&nbsp;</th>\n",
       "      <th class=\"col_heading level0 col0\" >tanggal</th>\n",
       "      <th class=\"col_heading level0 col1\" >omset</th>\n",
       "      <th class=\"col_heading level0 col2\" >operasional</th>\n",
       "    </tr>\n",
       "  </thead>\n",
       "  <tbody>\n",
       "    <tr>\n",
       "      <th id=\"T_a1e50_level0_row0\" class=\"row_heading level0 row0\" >0</th>\n",
       "      <td id=\"T_a1e50_row0_col0\" class=\"data row0 col0\" >01/01/00</td>\n",
       "      <td id=\"T_a1e50_row0_col1\" class=\"data row0 col1\" >Rp900000.00</td>\n",
       "      <td id=\"T_a1e50_row0_col2\" class=\"data row0 col2\" >Rp20000.00</td>\n",
       "    </tr>\n",
       "    <tr>\n",
       "      <th id=\"T_a1e50_level0_row1\" class=\"row_heading level0 row1\" >1</th>\n",
       "      <td id=\"T_a1e50_row1_col0\" class=\"data row1 col0\" >02/01/00</td>\n",
       "      <td id=\"T_a1e50_row1_col1\" class=\"data row1 col1\" >Rp1700000.00</td>\n",
       "      <td id=\"T_a1e50_row1_col2\" class=\"data row1 col2\" >Rp50000.00</td>\n",
       "    </tr>\n",
       "    <tr>\n",
       "      <th id=\"T_a1e50_level0_row2\" class=\"row_heading level0 row2\" >2</th>\n",
       "      <td id=\"T_a1e50_row2_col0\" class=\"data row2 col0\" >03/01/00</td>\n",
       "      <td id=\"T_a1e50_row2_col1\" class=\"data row2 col1\" >Rp1500000.00</td>\n",
       "      <td id=\"T_a1e50_row2_col2\" class=\"data row2 col2\" >Rp150000.00</td>\n",
       "    </tr>\n",
       "    <tr>\n",
       "      <th id=\"T_a1e50_level0_row3\" class=\"row_heading level0 row3\" >3</th>\n",
       "      <td id=\"T_a1e50_row3_col0\" class=\"data row3 col0\" >04/01/00</td>\n",
       "      <td id=\"T_a1e50_row3_col1\" class=\"data row3 col1\" >Rp1800000.00</td>\n",
       "      <td id=\"T_a1e50_row3_col2\" class=\"data row3 col2\" >Rp120000.00</td>\n",
       "    </tr>\n",
       "    <tr>\n",
       "      <th id=\"T_a1e50_level0_row4\" class=\"row_heading level0 row4\" >4</th>\n",
       "      <td id=\"T_a1e50_row4_col0\" class=\"data row4 col0\" >05/01/00</td>\n",
       "      <td id=\"T_a1e50_row4_col1\" class=\"data row4 col1\" >Rp1400000.00</td>\n",
       "      <td id=\"T_a1e50_row4_col2\" class=\"data row4 col2\" >Rp110000.00</td>\n",
       "    </tr>\n",
       "  </tbody>\n",
       "</table>\n"
      ],
      "text/plain": [
       "<pandas.io.formats.style.Styler at 0x2479b7d0040>"
      ]
     },
     "execution_count": 7,
     "metadata": {},
     "output_type": "execute_result"
    }
   ],
   "source": [
    "formatku ={'tanggal':'{:%d/%m/%y}',\n",
    "          'operasional':'Rp{:.2f}',\n",
    "          'omset':'Rp{:.2f}'}\n",
    "\n",
    "laporan =df.style.format(formatku)\n",
    "laporan"
   ]
  },
  {
   "cell_type": "code",
   "execution_count": 8,
   "id": "45e24533",
   "metadata": {},
   "outputs": [
    {
     "data": {
      "text/plain": [
       "pandas.io.formats.style.Styler"
      ]
     },
     "execution_count": 8,
     "metadata": {},
     "output_type": "execute_result"
    }
   ],
   "source": [
    "type(laporan)"
   ]
  },
  {
   "cell_type": "code",
   "execution_count": 9,
   "id": "442e541c",
   "metadata": {},
   "outputs": [
    {
     "data": {
      "text/html": [
       "<style type=\"text/css\">\n",
       "</style>\n",
       "<table id=\"T_a1e50_\">\n",
       "  <thead>\n",
       "    <tr>\n",
       "      <th class=\"col_heading level0 col0\" >tanggal</th>\n",
       "      <th class=\"col_heading level0 col1\" >omset</th>\n",
       "      <th class=\"col_heading level0 col2\" >operasional</th>\n",
       "    </tr>\n",
       "  </thead>\n",
       "  <tbody>\n",
       "    <tr>\n",
       "      <td id=\"T_a1e50_row0_col0\" class=\"data row0 col0\" >01/01/00</td>\n",
       "      <td id=\"T_a1e50_row0_col1\" class=\"data row0 col1\" >Rp900000.00</td>\n",
       "      <td id=\"T_a1e50_row0_col2\" class=\"data row0 col2\" >Rp20000.00</td>\n",
       "    </tr>\n",
       "    <tr>\n",
       "      <td id=\"T_a1e50_row1_col0\" class=\"data row1 col0\" >02/01/00</td>\n",
       "      <td id=\"T_a1e50_row1_col1\" class=\"data row1 col1\" >Rp1700000.00</td>\n",
       "      <td id=\"T_a1e50_row1_col2\" class=\"data row1 col2\" >Rp50000.00</td>\n",
       "    </tr>\n",
       "    <tr>\n",
       "      <td id=\"T_a1e50_row2_col0\" class=\"data row2 col0\" >03/01/00</td>\n",
       "      <td id=\"T_a1e50_row2_col1\" class=\"data row2 col1\" >Rp1500000.00</td>\n",
       "      <td id=\"T_a1e50_row2_col2\" class=\"data row2 col2\" >Rp150000.00</td>\n",
       "    </tr>\n",
       "    <tr>\n",
       "      <td id=\"T_a1e50_row3_col0\" class=\"data row3 col0\" >04/01/00</td>\n",
       "      <td id=\"T_a1e50_row3_col1\" class=\"data row3 col1\" >Rp1800000.00</td>\n",
       "      <td id=\"T_a1e50_row3_col2\" class=\"data row3 col2\" >Rp120000.00</td>\n",
       "    </tr>\n",
       "    <tr>\n",
       "      <td id=\"T_a1e50_row4_col0\" class=\"data row4 col0\" >05/01/00</td>\n",
       "      <td id=\"T_a1e50_row4_col1\" class=\"data row4 col1\" >Rp1400000.00</td>\n",
       "      <td id=\"T_a1e50_row4_col2\" class=\"data row4 col2\" >Rp110000.00</td>\n",
       "    </tr>\n",
       "  </tbody>\n",
       "</table>\n"
      ],
      "text/plain": [
       "<pandas.io.formats.style.Styler at 0x2479b7d0040>"
      ]
     },
     "execution_count": 9,
     "metadata": {},
     "output_type": "execute_result"
    }
   ],
   "source": [
    "laporan.hide_index()"
   ]
  },
  {
   "cell_type": "code",
   "execution_count": 10,
   "id": "289e64f5",
   "metadata": {},
   "outputs": [
    {
     "data": {
      "text/html": [
       "<style type=\"text/css\">\n",
       "</style>\n",
       "<table id=\"T_a1e50_\">\n",
       "  <caption>Data Omset dan Operasional</caption>\n",
       "  <thead>\n",
       "    <tr>\n",
       "      <th class=\"col_heading level0 col0\" >tanggal</th>\n",
       "      <th class=\"col_heading level0 col1\" >omset</th>\n",
       "      <th class=\"col_heading level0 col2\" >operasional</th>\n",
       "    </tr>\n",
       "  </thead>\n",
       "  <tbody>\n",
       "    <tr>\n",
       "      <td id=\"T_a1e50_row0_col0\" class=\"data row0 col0\" >01/01/00</td>\n",
       "      <td id=\"T_a1e50_row0_col1\" class=\"data row0 col1\" >Rp900000.00</td>\n",
       "      <td id=\"T_a1e50_row0_col2\" class=\"data row0 col2\" >Rp20000.00</td>\n",
       "    </tr>\n",
       "    <tr>\n",
       "      <td id=\"T_a1e50_row1_col0\" class=\"data row1 col0\" >02/01/00</td>\n",
       "      <td id=\"T_a1e50_row1_col1\" class=\"data row1 col1\" >Rp1700000.00</td>\n",
       "      <td id=\"T_a1e50_row1_col2\" class=\"data row1 col2\" >Rp50000.00</td>\n",
       "    </tr>\n",
       "    <tr>\n",
       "      <td id=\"T_a1e50_row2_col0\" class=\"data row2 col0\" >03/01/00</td>\n",
       "      <td id=\"T_a1e50_row2_col1\" class=\"data row2 col1\" >Rp1500000.00</td>\n",
       "      <td id=\"T_a1e50_row2_col2\" class=\"data row2 col2\" >Rp150000.00</td>\n",
       "    </tr>\n",
       "    <tr>\n",
       "      <td id=\"T_a1e50_row3_col0\" class=\"data row3 col0\" >04/01/00</td>\n",
       "      <td id=\"T_a1e50_row3_col1\" class=\"data row3 col1\" >Rp1800000.00</td>\n",
       "      <td id=\"T_a1e50_row3_col2\" class=\"data row3 col2\" >Rp120000.00</td>\n",
       "    </tr>\n",
       "    <tr>\n",
       "      <td id=\"T_a1e50_row4_col0\" class=\"data row4 col0\" >05/01/00</td>\n",
       "      <td id=\"T_a1e50_row4_col1\" class=\"data row4 col1\" >Rp1400000.00</td>\n",
       "      <td id=\"T_a1e50_row4_col2\" class=\"data row4 col2\" >Rp110000.00</td>\n",
       "    </tr>\n",
       "  </tbody>\n",
       "</table>\n"
      ],
      "text/plain": [
       "<pandas.io.formats.style.Styler at 0x2479b7d0040>"
      ]
     },
     "execution_count": 10,
     "metadata": {},
     "output_type": "execute_result"
    }
   ],
   "source": [
    "laporan.set_caption('Data Omset dan Operasional')"
   ]
  },
  {
   "cell_type": "code",
   "execution_count": 11,
   "id": "e858e443",
   "metadata": {},
   "outputs": [
    {
     "data": {
      "text/html": [
       "<style type=\"text/css\">\n",
       "#T_a1e50_row0_col1 {\n",
       "  background-color: pink;\n",
       "}\n",
       "#T_a1e50_row0_col2 {\n",
       "  background-color: lightblue;\n",
       "}\n",
       "#T_a1e50_row2_col2 {\n",
       "  background-color: grey;\n",
       "}\n",
       "#T_a1e50_row3_col1 {\n",
       "  background-color: lightgreen;\n",
       "}\n",
       "</style>\n",
       "<table id=\"T_a1e50_\">\n",
       "  <caption>Data Omset dan Operasional</caption>\n",
       "  <thead>\n",
       "    <tr>\n",
       "      <th class=\"col_heading level0 col0\" >tanggal</th>\n",
       "      <th class=\"col_heading level0 col1\" >omset</th>\n",
       "      <th class=\"col_heading level0 col2\" >operasional</th>\n",
       "    </tr>\n",
       "  </thead>\n",
       "  <tbody>\n",
       "    <tr>\n",
       "      <td id=\"T_a1e50_row0_col0\" class=\"data row0 col0\" >01/01/00</td>\n",
       "      <td id=\"T_a1e50_row0_col1\" class=\"data row0 col1\" >Rp900000.00</td>\n",
       "      <td id=\"T_a1e50_row0_col2\" class=\"data row0 col2\" >Rp20000.00</td>\n",
       "    </tr>\n",
       "    <tr>\n",
       "      <td id=\"T_a1e50_row1_col0\" class=\"data row1 col0\" >02/01/00</td>\n",
       "      <td id=\"T_a1e50_row1_col1\" class=\"data row1 col1\" >Rp1700000.00</td>\n",
       "      <td id=\"T_a1e50_row1_col2\" class=\"data row1 col2\" >Rp50000.00</td>\n",
       "    </tr>\n",
       "    <tr>\n",
       "      <td id=\"T_a1e50_row2_col0\" class=\"data row2 col0\" >03/01/00</td>\n",
       "      <td id=\"T_a1e50_row2_col1\" class=\"data row2 col1\" >Rp1500000.00</td>\n",
       "      <td id=\"T_a1e50_row2_col2\" class=\"data row2 col2\" >Rp150000.00</td>\n",
       "    </tr>\n",
       "    <tr>\n",
       "      <td id=\"T_a1e50_row3_col0\" class=\"data row3 col0\" >04/01/00</td>\n",
       "      <td id=\"T_a1e50_row3_col1\" class=\"data row3 col1\" >Rp1800000.00</td>\n",
       "      <td id=\"T_a1e50_row3_col2\" class=\"data row3 col2\" >Rp120000.00</td>\n",
       "    </tr>\n",
       "    <tr>\n",
       "      <td id=\"T_a1e50_row4_col0\" class=\"data row4 col0\" >05/01/00</td>\n",
       "      <td id=\"T_a1e50_row4_col1\" class=\"data row4 col1\" >Rp1400000.00</td>\n",
       "      <td id=\"T_a1e50_row4_col2\" class=\"data row4 col2\" >Rp110000.00</td>\n",
       "    </tr>\n",
       "  </tbody>\n",
       "</table>\n"
      ],
      "text/plain": [
       "<pandas.io.formats.style.Styler at 0x2479b7d0040>"
      ]
     },
     "execution_count": 11,
     "metadata": {},
     "output_type": "execute_result"
    }
   ],
   "source": [
    "laporan.highlight_min('omset',color='pink')\n",
    "laporan.highlight_max('omset',color='lightgreen')\n",
    "\n",
    "laporan.highlight_min('operasional',color='lightblue')\n",
    "laporan.highlight_max('operasional',color='grey')"
   ]
  },
  {
   "cell_type": "code",
   "execution_count": null,
   "id": "ac6f957d",
   "metadata": {},
   "outputs": [],
   "source": []
  }
 ],
 "metadata": {
  "kernelspec": {
   "display_name": "Python 3 (ipykernel)",
   "language": "python",
   "name": "python3"
  },
  "language_info": {
   "codemirror_mode": {
    "name": "ipython",
    "version": 3
   },
   "file_extension": ".py",
   "mimetype": "text/x-python",
   "name": "python",
   "nbconvert_exporter": "python",
   "pygments_lexer": "ipython3",
   "version": "3.9.7"
  }
 },
 "nbformat": 4,
 "nbformat_minor": 5
}
